{
 "cells": [
  {
   "cell_type": "markdown",
   "metadata": {
    "deletable": true,
    "editable": true,
    "slideshow": {
     "slide_type": "slide"
    }
   },
   "source": [
    "## Metaprogramming in Python\n",
    "<br><br>\n",
    "By Rajat Goyal\n",
    "\n",
    "@rajat404"
   ]
  },
  {
   "cell_type": "markdown",
   "metadata": {
    "deletable": true,
    "editable": true,
    "slideshow": {
     "slide_type": "slide"
    }
   },
   "source": [
    "## What is metaprogramming?\n",
    "\n",
    "Code manipulating Code"
   ]
  },
  {
   "cell_type": "markdown",
   "metadata": {
    "deletable": true,
    "editable": true,
    "slideshow": {
     "slide_type": "slide"
    }
   },
   "source": [
    "## Why use metaprogramming?\n",
    "\n",
    "- Better understanding of Python libraries/frameworks\n",
    "- DRY\n",
    "- Simplify your workflow"
   ]
  },
  {
   "cell_type": "markdown",
   "metadata": {
    "deletable": true,
    "editable": true,
    "slideshow": {
     "slide_type": "slide"
    }
   },
   "source": [
    "## Closures\n",
    "\n",
    "Closures are functions that return functions\n",
    "\n"
   ]
  },
  {
   "cell_type": "code",
   "execution_count": 5,
   "metadata": {
    "collapsed": false,
    "slideshow": {
     "slide_type": "subslide"
    }
   },
   "outputs": [],
   "source": [
    "\n",
    "def create_func(a, b):\n",
    "    def multiply():\n",
    "        return a*b\n",
    "    return multiply"
   ]
  },
  {
   "cell_type": "code",
   "execution_count": 6,
   "metadata": {
    "collapsed": false,
    "slideshow": {
     "slide_type": "fragment"
    }
   },
   "outputs": [
    {
     "data": {
      "text/plain": [
       "50"
      ]
     },
     "execution_count": 6,
     "metadata": {},
     "output_type": "execute_result"
    }
   ],
   "source": [
    ">>> temp = create_func(5, 10)\n",
    ">>> temp()\n"
   ]
  },
  {
   "cell_type": "markdown",
   "metadata": {
    "deletable": true,
    "editable": true,
    "slideshow": {
     "slide_type": "slide"
    }
   },
   "source": [
    "## Decorators\n",
    "\n",
    "A decorator is a function that wraps around another function, therby modifiying it's functionality\n"
   ]
  },
  {
   "cell_type": "code",
   "execution_count": 22,
   "metadata": {
    "collapsed": false,
    "slideshow": {
     "slide_type": "subslide"
    }
   },
   "outputs": [],
   "source": [
    "from decorator import decorator\n",
    "\n",
    "@decorator\n",
    "def print_something(fn, *args, **kwargs):\n",
    "    print('Something is printed before the function\\'s execution!')\n",
    "    return fn(*args, **kwargs)\n",
    "\n",
    "@print_something\n",
    "def adder(x, y):\n",
    "    return x + y"
   ]
  },
  {
   "cell_type": "code",
   "execution_count": 23,
   "metadata": {
    "collapsed": false,
    "slideshow": {
     "slide_type": "fragment"
    }
   },
   "outputs": [
    {
     "name": "stdout",
     "output_type": "stream",
     "text": [
      "Something is printed before the function's execution!\n"
     ]
    },
    {
     "data": {
      "text/plain": [
       "3"
      ]
     },
     "execution_count": 23,
     "metadata": {},
     "output_type": "execute_result"
    }
   ],
   "source": [
    "adder(1,2)"
   ]
  },
  {
   "cell_type": "markdown",
   "metadata": {
    "deletable": true,
    "editable": true,
    "slideshow": {
     "slide_type": "slide"
    }
   },
   "source": [
    "## Using Decorators in everyday programming\n",
    "- logging\n",
    "- debugging\n",
    "- validation\n"
   ]
  },
  {
   "cell_type": "code",
   "execution_count": 1,
   "metadata": {
    "collapsed": true,
    "slideshow": {
     "slide_type": "subslide"
    }
   },
   "outputs": [],
   "source": [
    "# Decorator for Logging\n",
    "from functools import wraps\n",
    "import logging\n",
    "\n",
    "def logger_decorator(f):\n",
    "    log = logging.getLogger(f.__module__)\n",
    "    text = f.__qualname__\n",
    "    @wraps(f)\n",
    "    def wrapper(*args, **kwargs):\n",
    "        log.debug(text)\n",
    "        return f(*args, **kwargs)\n",
    "    return wrapper"
   ]
  },
  {
   "cell_type": "code",
   "execution_count": 9,
   "metadata": {
    "collapsed": true,
    "slideshow": {
     "slide_type": "subslide"
    }
   },
   "outputs": [],
   "source": [
    "# Decorator for Debugging\n",
    "from decorator import decorator\n",
    "\n",
    "@decorator\n",
    "def debug_something(fn, *args, **kwargs):\n",
    "    print('args: {} \\nkwargs: {}'.format(args, kwargs))\n",
    "    return fn(*args, **kwargs)\n"
   ]
  },
  {
   "cell_type": "markdown",
   "metadata": {
    "deletable": true,
    "editable": true,
    "slideshow": {
     "slide_type": "slide"
    }
   },
   "source": [
    "## Classes & Types\n",
    "\n",
    "- Brief intro to Types in Python\n",
    "- How to create custom Types"
   ]
  },
  {
   "cell_type": "markdown",
   "metadata": {
    "deletable": true,
    "editable": true,
    "slideshow": {
     "slide_type": "slide"
    }
   },
   "source": [
    "## Class Decorators\n",
    "\n",
    "- Decorators for Classes\n",
    "- Can wrap only instance methods\n",
    "- Better Solutions?"
   ]
  },
  {
   "cell_type": "code",
   "execution_count": 10,
   "metadata": {
    "collapsed": true,
    "slideshow": {
     "slide_type": "subslide"
    }
   },
   "outputs": [],
   "source": [
    "def class_deco(cls):\n",
    "    print('Inside class: {}'.format(cls.__qualname__))\n",
    "    return cls"
   ]
  },
  {
   "cell_type": "code",
   "execution_count": 12,
   "metadata": {
    "collapsed": false,
    "slideshow": {
     "slide_type": "fragment"
    }
   },
   "outputs": [
    {
     "name": "stdout",
     "output_type": "stream",
     "text": [
      "Inside class: A\n"
     ]
    }
   ],
   "source": [
    "@class_deco\n",
    "class A:\n",
    "    pass"
   ]
  },
  {
   "cell_type": "markdown",
   "metadata": {
    "deletable": true,
    "editable": true,
    "slideshow": {
     "slide_type": "slide"
    }
   },
   "source": [
    "## Metaclasses\n",
    "\n",
    "- Class of a Class\n",
    "- class whose instances are themselves classes"
   ]
  },
  {
   "cell_type": "code",
   "execution_count": 16,
   "metadata": {
    "collapsed": false,
    "slideshow": {
     "slide_type": "subslide"
    }
   },
   "outputs": [
    {
     "name": "stdout",
     "output_type": "stream",
     "text": [
      "clsdict: {'__module__': '__main__', '__qualname__': 'A'}\n"
     ]
    }
   ],
   "source": [
    "# Basic Metaclass\n",
    "class SampleMeta(type):\n",
    "    def __new__(cls, classname, bases, clsdict):\n",
    "        print('clsdict:', clsdict)\n",
    "        return super().__new__(cls, classname, bases, clsdict)\n",
    "\n",
    "# Define a new class using the SampleMeta metaclass\n",
    "class A(metaclass=SampleMeta):\n",
    "    pass\n"
   ]
  },
  {
   "cell_type": "markdown",
   "metadata": {
    "deletable": true,
    "editable": true,
    "slideshow": {
     "slide_type": "slide"
    }
   },
   "source": [
    "## Metaprogramming Best Practices\n",
    "\n",
    "General principles & syntax that should be followed while writing decorators & metaclasses"
   ]
  }
 ],
 "metadata": {
  "celltoolbar": "Slideshow",
  "kernelspec": {
   "display_name": "Python 3",
   "language": "python",
   "name": "python3"
  },
  "language_info": {
   "codemirror_mode": {
    "name": "ipython",
    "version": 3
   },
   "file_extension": ".py",
   "mimetype": "text/x-python",
   "name": "python",
   "nbconvert_exporter": "python",
   "pygments_lexer": "ipython3",
   "version": "3.6.0"
  }
 },
 "nbformat": 4,
 "nbformat_minor": 2
}
