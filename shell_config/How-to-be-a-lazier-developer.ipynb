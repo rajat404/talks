{
 "cells": [
  {
   "cell_type": "markdown",
   "metadata": {
    "slideshow": {
     "slide_type": "slide"
    }
   },
   "source": [
    "# How to be a lazier developer\n",
    "<br><br><br><br>\n",
    "By Rajat Goyal\n",
    "\n",
    "@rajat404"
   ]
  },
  {
   "cell_type": "markdown",
   "metadata": {
    "collapsed": true,
    "slideshow": {
     "slide_type": "slide"
    }
   },
   "source": [
    "## Terminal Emulators\n",
    "\n",
    "### Terminator/iTerm2\n",
    "\n",
    "- Split pane view\n",
    "- Configurable keybindings\n",
    "- Customisable UI\n",
    "- Content re-flow on resize"
   ]
  },
  {
   "cell_type": "markdown",
   "metadata": {
    "slideshow": {
     "slide_type": "slide"
    }
   },
   "source": [
    "## Shells"
   ]
  },
  {
   "cell_type": "markdown",
   "metadata": {
    "slideshow": {
     "slide_type": "slide"
    }
   },
   "source": [
    "## Bash\n",
    "\n",
    "- Default shell in most *NIX distributions\n",
    "- Plain & Simple"
   ]
  },
  {
   "cell_type": "markdown",
   "metadata": {
    "slideshow": {
     "slide_type": "subslide"
    }
   },
   "source": [
    "## Files in Bash\n",
    "\n",
    "- **.bash_profile** -- The personal initialization file, executed at login\n",
    "- **.bashrc** -- The individual per-interactive-shell startup file\n",
    "- **.bash_history** -- File storing history of commands entered\n"
   ]
  },
  {
   "cell_type": "markdown",
   "metadata": {
    "slideshow": {
     "slide_type": "slide"
    }
   },
   "source": [
    "## Zsh\n",
    "\n",
    "- Incorporates features of `bash` & `ksh`\n",
    "- Fast autocompletion\n",
    "- Versatile prompts\n",
    "- Autocorrect/Autosuggest"
   ]
  },
  {
   "cell_type": "markdown",
   "metadata": {
    "slideshow": {
     "slide_type": "subslide"
    }
   },
   "source": [
    "## Files in Zsh\n",
    "\n",
    "- **.zprofile** -- Executes commands at login pre-zshrc\n",
    "- **.zshrc** -- The individual per-interactive-shell startup file\n",
    "- **.zshenv** -- Defines environment variables\n",
    "- **.zhistory** -- File storing history of commands entered\n"
   ]
  },
  {
   "cell_type": "markdown",
   "metadata": {
    "slideshow": {
     "slide_type": "slide"
    }
   },
   "source": [
    "## Zsh Configuration Framework\n"
   ]
  },
  {
   "cell_type": "markdown",
   "metadata": {
    "slideshow": {
     "slide_type": "fragment"
    }
   },
   "source": [
    "- [Oh-my-zsh](https://github.com/robbyrussell/oh-my-zsh/)\n"
   ]
  },
  {
   "cell_type": "markdown",
   "metadata": {
    "slideshow": {
     "slide_type": "fragment"
    }
   },
   "source": [
    "- [Prezto](https://github.com/sorin-ionescu/prezto)"
   ]
  },
  {
   "cell_type": "markdown",
   "metadata": {
    "slideshow": {
     "slide_type": "slide"
    }
   },
   "source": [
    "## Aliases\n",
    "\n",
    "replacement text for a command"
   ]
  },
  {
   "cell_type": "markdown",
   "metadata": {
    "collapsed": true,
    "slideshow": {
     "slide_type": "fragment"
    }
   },
   "source": [
    "```\n",
    "# Git Aliases\n",
    "\n",
    "alias gs=\"git status\"\n",
    "alias ga='git add . --all'\n",
    "alias gb='git branch '\n",
    "alias gc='git commit -am'\n",
    "alias gk='git checkout'\n",
    "alias gpo='git push origin \"$(git-branch-current 2> /dev/null)\"'\n",
    "alias gpu='git pull origin \"$(git-branch-current 2> /dev/null)\"'\n",
    "```"
   ]
  },
  {
   "cell_type": "markdown",
   "metadata": {
    "slideshow": {
     "slide_type": "subslide"
    }
   },
   "source": [
    "### Some more examples\n",
    "<br>\n",
    "```\n",
    "alias fsize=\"du -hs * | sort -h\"\n",
    "alias lookup='ps aux | grep'\n",
    "alias pubkey=\"more ~/.ssh/id_rsa.pub | pbcopy | echo '=> Public key copied to clipboard.'\"\n",
    "alias pwc=\"pwd | pbcopy | pwd && echo '=> Current Directory copied to clipboard.'\"\n",
    "alias las=\"ls -SFhsrl\"\n",
    "\n",
    "alias env=\"python3 -m venv venv\"\n",
    "alias sv=\"source venv/bin/activate\"\n",
    "\n",
    "alias mp3=\"youtube-dl --extract-audio --audio-format mp3 --no-playlist\"\n",
    "alias youtube-720=\"youtube-dl -f 'bestvideo[height<=720]+bestaudio/best[height<=720]' --no-playlist\"\n",
    "```"
   ]
  },
  {
   "cell_type": "markdown",
   "metadata": {
    "slideshow": {
     "slide_type": "slide"
    }
   },
   "source": [
    "## Functions\n",
    "\n",
    "Group or modify commands for easy execution"
   ]
  },
  {
   "cell_type": "markdown",
   "metadata": {
    "slideshow": {
     "slide_type": "fragment"
    }
   },
   "source": [
    "```\n",
    "# http://hamberg.no/erlend/posts/2013-01-18-mkcd.html\n",
    "mkcd(){\n",
    "    mkdir -p \"${1}\"\n",
    "    cd \"${1}\"\n",
    "}\n",
    "\n",
    "# Automatically do `ls` after `cd`\n",
    "cd(){\n",
    "    builtin cd \"$@\" && ls -F\n",
    "}\n",
    "```"
   ]
  },
  {
   "cell_type": "markdown",
   "metadata": {
    "slideshow": {
     "slide_type": "subslide"
    }
   },
   "source": [
    "### Some more expamples\n",
    "<br>\n",
    "```\n",
    "req(){\n",
    "    pip freeze | grep \"$1\"\n",
    "    pip freeze | grep \"$1\" | pbcopy\n",
    "    echo \"=> Output copied to clipboard\"\n",
    "}\n",
    "\n",
    "# Create Archives\n",
    "mktar() { tar cvf  \"${1%%/}.tar\"     \"${1%%/}/\"; }\n",
    "mktgz() { tar cvzf \"${1%%/}.tar.gz\"  \"${1%%/}/\"; }\n",
    "mktbz() { tar cvjf \"${1%%/}.tar.bz2\" \"${1%%/}/\"; }\n",
    "\n",
    "# Lists all commits made by the user yesterday, in the current project\n",
    "standup(){\n",
    "    AUTHOR=$(git config --get user.email)\n",
    "    git log --since yesterday --oneline --author $AUTHOR\n",
    "}\n",
    "\n",
    "```"
   ]
  },
  {
   "cell_type": "markdown",
   "metadata": {
    "slideshow": {
     "slide_type": "slide"
    }
   },
   "source": [
    "## Envirnonment Variables"
   ]
  },
  {
   "cell_type": "markdown",
   "metadata": {
    "slideshow": {
     "slide_type": "slide"
    }
   },
   "source": [
    "## Dotfiles\n",
    "\n",
    "https://github.com/rajat404/dotfiles"
   ]
  },
  {
   "cell_type": "markdown",
   "metadata": {
    "slideshow": {
     "slide_type": "slide"
    }
   },
   "source": [
    "## Thanks!\n",
    "\n",
    "https://medium.com/@rajat404/dev-setup-terminal-a0a3a23db47c"
   ]
  }
 ],
 "metadata": {
  "celltoolbar": "Slideshow",
  "kernelspec": {
   "display_name": "Python 3",
   "language": "python",
   "name": "python3"
  },
  "language_info": {
   "codemirror_mode": {
    "name": "ipython",
    "version": 3
   },
   "file_extension": ".py",
   "mimetype": "text/x-python",
   "name": "python",
   "nbconvert_exporter": "python",
   "pygments_lexer": "ipython3",
   "version": "3.6.0"
  }
 },
 "nbformat": 4,
 "nbformat_minor": 2
}
